{
 "cells": [
  {
   "cell_type": "markdown",
   "id": "66c31b10-57e8-43af-96c3-c66f63212e53",
   "metadata": {},
   "source": [
    "# Tarea 4\n",
    "\n",
    "## Factorización de matrices\n",
    "\n",
    "Autor: Emmanuel Alejandro Larralde Ortiz | emmanuel.larralde@cimat.mx"
   ]
  },
  {
   "cell_type": "markdown",
   "id": "c2b52385-5443-4137-944b-7bf7d9db4fd0",
   "metadata": {},
   "source": [
    "## Ejercicio 1\n",
    "\n",
    "Desarrolle de forma escrita la solución general para la factorización $LU$ del método *Doolittle* de la forma $A = LU$, con $diag(L) = [1, 1, \\dots , 1]$."
   ]
  },
  {
   "cell_type": "markdown",
   "id": "7fefd3f6-0ebd-4e6f-8ede-1b56e11f2d54",
   "metadata": {},
   "source": [
    "### Solución\n",
    "Sean las matrices cuadradas $L$ , $U$ y $A$ tal que:\n",
    "\n",
    "\\begin{equation}\n",
    "\\begin{bmatrix}\n",
    "a_{11} & a_{12} & \\dots & a_{1n}\\\\\n",
    "a_{21} & a_{22} & \\dots & a_{2n}\\\\\n",
    "\\vdots & \\vdots & \\ddots & \\vdots \\\\\n",
    "a_{n1} & a_{n2} & \\dots & a_{nn}\n",
    "\\end{bmatrix}\n",
    "=\n",
    "\\begin{bmatrix}\n",
    "1 & 0 & \\dots & 0\\\\\n",
    "l_{21} & 1 & \\dots & 0\\\\\n",
    "\\vdots & \\vdots & \\ddots & \\vdots \\\\\n",
    "l_{n1} & l_{n2} & \\dots & 1\n",
    "\\end{bmatrix}\n",
    "\\begin{bmatrix}\n",
    "u_{11} & u_{12} & \\dots & u_{1n}\\\\\n",
    "0 & u_{22} & \\dots & u_{2n}\\\\\n",
    "\\vdots & \\vdots & \\ddots & \\vdots \\\\\n",
    "0 & 0 & \\dots & u_{nn}\n",
    "\\end{bmatrix}\n",
    "\\end{equation}\n",
    "\n",
    "Debido a que ambas matrices son triangulares, podemos notar que cada término de la submatriz $A_{[1:n][1:n]}$ se puede calcular sólo con términos que se encuentran en las submatrices $U_{[1:n][1:n]}$ y $L_{[1:n][1:n]}$, entonces, podemos afirmar que la siguiente igualdad es verdadera.\n",
    "\n",
    "\\begin{equation}\n",
    "\\begin{bmatrix}\n",
    "a_{11} & a_{12} \\\\\n",
    "a_{21} & a_{22}\n",
    "\\end{bmatrix}\n",
    "=\n",
    "\\begin{bmatrix}\n",
    "1 & 0 \\\\\n",
    "l_{21} & 1\n",
    "\\end{bmatrix}\n",
    "\\begin{bmatrix}\n",
    "u_{11} & u_{12} \\\\\n",
    "0 & u_{22}\n",
    "\\end{bmatrix}\n",
    "\\end{equation}\n",
    "\n",
    "También la siguiente\n",
    "\n",
    "\\begin{equation}\n",
    "\\begin{bmatrix}\n",
    "a_{11} & a_{12} & a_{13}\\\\\n",
    "a_{21} & a_{22} & a_{23}\\\\\n",
    "a_{31} & a_{32} & a_{33}\n",
    "\\end{bmatrix}\n",
    "=\n",
    "\\begin{bmatrix}\n",
    "1 & 0 & 0\\\\\n",
    "l_{21} & 1 & 0\\\\\n",
    "l_{31} & l_{32} & 1\n",
    "\\end{bmatrix}\n",
    "\\begin{bmatrix}\n",
    "u_{11} & u_{12} & u_{13}\\\\\n",
    "0 & u_{22} & u_{23}\\\\\n",
    "0 & 0 & u_{33}\n",
    "\\end{bmatrix}\n",
    "\\end{equation}\n",
    "\n",
    "Y esto es válido para cualquier triada de submatrices cuadradas \n",
    "\n",
    "$$A_{[1:n][1:n]} = L_{[1:n][1:n]}U_{[1:n][1:n]}$$\n",
    "\n",
    "Es fácil observar que este subsistema tiene exactamente $n$ valores conocidos (submatriz $A_{[1:n][1:n]}$), $n$ incógnitas en ambas matrices $L_{[1:n][1:n]}$, $U_{[1:n][1:n]}$ y $n$ ecuaciones lineales. Entonces, es posible determinar las $n$ incógnitas en ambas  $L_{[1:n][1:n]}$, $U_{[1:n][1:n]}$ si $A_{[1:n][1:n]}$ no es singular."
   ]
  },
  {
   "cell_type": "markdown",
   "id": "e9cb8edc-cbca-4fdf-aff3-2f5096568791",
   "metadata": {},
   "source": [
    "Una vez resuelto $A_{[1:n][1:n]} = L_{[1:n][1:n]}U_{[1:n][1:n]}$, obtenemos todos los términos de las submatrices $L_{[1:n][1:n]}$ y $U_{[1:n][1:n]}$. Procedemos a desarrollar el sistema de ecuaciones que surge de multiplicar el renglón $i$ de $L$ por todas las columnas $1, 2, \\dots, i-1$ de $U$\n",
    "\n",
    "\\begin{equation}\n",
    "\\begin{bmatrix}\n",
    "a_{i,1} & a_{i,2} & \\dots &a_{i,i-1} \n",
    "\\end{bmatrix}\n",
    "=\n",
    "\\begin{bmatrix}\n",
    "l_{i,1} & l_{i,2} & \\dots & l_{i,i-1} \n",
    "\\end{bmatrix}\n",
    "U_{[1:i-1][1:i-1]}\n",
    "\\end{equation}\n",
    "\n",
    "Al transponer la ecuación:\n",
    "\n",
    "\\begin{equation}\n",
    "\\begin{bmatrix}\n",
    "a_{i,1} & a_{i,2} & \\dots &a_{i,i-1} \n",
    "\\end{bmatrix}^T\n",
    "=\n",
    "U_{[1:i-1][1:i-1]}^T\n",
    "\\begin{bmatrix}\n",
    "l_{i,1} & l_{i,2} & \\dots & l_{i,i-1} \n",
    "\\end{bmatrix}^T\n",
    "\\end{equation}\n",
    "\n",
    "El cual es un sistema de ecuaciones de la forma\n",
    "\n",
    "$$L'x = b$$\n",
    "\n",
    "Con\n",
    "- $L' = U_{[1:i-1][1:i-1]}^T$\n",
    "- $x = [L_{i,1}, L_{i,2}, \\dots, L_{i, i-1}]$\n",
    "- $b = [A_{i,1}, A_{i,2}, \\dots, A_{i, i-1}]$\n",
    "\n",
    "Anteriormente se había observado que este sistema es fácil de resolver si se inicia calculando el primer elemento de $x$, luego el segundo, etc. Entonces, se prosigue a resolver $l_{i,1}$, luego $l_{i,2}$ hasta $l_{i, i-1}$."
   ]
  },
  {
   "cell_type": "markdown",
   "id": "b0c06dbb-f36a-4042-9e83-ae20adcd0dd9",
   "metadata": {},
   "source": [
    "Una vez resueltos\n",
    "\n",
    "- $A_{[1:i-1][1:i-1]} = L_{[1:i-1][1:i-1]}U_{[1:i-1][1:i-1]}$\n",
    "\n",
    "- $U_{[1:i-1][1:i-1]}^T [l_{i,1}, l_{i,2}, \\dots, l_{i,i-1}]^T = [a_{i,1}, a_{i,2}, \\dots, a_{i,i-1}]^T$\n",
    "\n",
    "Faltan determinar cuáles son los valores $u_{1,i}$, $u_{2,i}$, ...,  $u_{i, i}$. Para esto, continuamos con el siguiente sismtema de ecuaciones:\n",
    "\n",
    "\\begin{equation}\n",
    "L_{[1:i][1:i]}\n",
    "\\begin{bmatrix}\n",
    "u_{1,i} \\\\\n",
    "u_{2,i} \\\\\n",
    "\\dots \\\\\n",
    "u_{i,i} \\\\\n",
    "\\end{bmatrix}\n",
    "=\n",
    "\\begin{bmatrix}\n",
    "a_{1,i} \\\\\n",
    "a_{2,i} \\\\\n",
    "\\dots \\\\\n",
    "a_{i,i} \\\\\n",
    "\\end{bmatrix}\n",
    "\\end{equation}\n",
    "\n",
    "El cual es otro sistema de ecuación triangular inferior. Entonces se encuentra primero $u_{1,i}$, luego $u_{2,i}$, hasta $u_{i,i}$.\n",
    "\n",
    "De esta forma encontramos un método que permite calcular de forma recursiva los elementos de la matriz $L$ y $U$."
   ]
  },
  {
   "cell_type": "markdown",
   "id": "a4ec178b-de6d-4798-b1b9-75f5298f5147",
   "metadata": {},
   "source": [
    "Usando programación dinámica, la solución sería como sigue:\n",
    "```python\n",
    "factorizacion_lu(A, U, L):\n",
    "    n = dimension(A)\n",
    "    if n == 1:\n",
    "        U[1][1] = A[1][1]\n",
    "        return\n",
    "    factorizacion_lu(A[1:n-1][1:n-1], U, L)\n",
    "    L[n][1:n-1] = solve_triangular_low(\n",
    "        transpose(U[1:n-1][1:n-1]),\n",
    "        A[n][1:n-1]\n",
    "    )\n",
    "    L[n][n] = 1\n",
    "    U[1:n][n] = solve_triangular_low(\n",
    "        L[1:n][1:n], \n",
    "        A[1:n][n]\n",
    "    )\n",
    "```"
   ]
  },
  {
   "cell_type": "markdown",
   "id": "278c88ef-e6c8-4fc4-843c-28697846d4cc",
   "metadata": {},
   "source": [
    "No obstante, nunca es buena idea hacer llamadas recursivas, por lo que vale la pena desenvolver la recursividad para obtener estructuras cíclicas y evitar llamar subrutinas.\n",
    "\n",
    "Dado el algoritmo anterior, es fácil determinar el orden con el cuál se resuelve la ecuación:\n",
    "\n",
    "```python\n",
    "factorizacion_lu(A, U, L):\n",
    "    L[1][1] = 1\n",
    "    U[1][1] = A[1][1]\n",
    "    n = dimension(A)\n",
    "    for i in [2, ..., n]:\n",
    "        L[i][1:i-1] = solve_low(\n",
    "            transpose(U[1:i-1][1:i-1]),\n",
    "            A[i][1:i-1]\n",
    "        )\n",
    "        L[i][i] = 1\n",
    "        U[1:i][i] = solve_low(\n",
    "            L[1:i][1:i],\n",
    "            A[1:i][i]\n",
    "        )\n",
    "```"
   ]
  },
  {
   "cell_type": "markdown",
   "id": "db5c0ec2-bfc8-4fea-9079-40905594180c",
   "metadata": {
    "tags": []
   },
   "source": [
    "Y la solución de los sistemas de ecuaciones (triangulares inferiores) llevan a las siguientes ecuaciones.\n",
    "\n",
    "$$l_{ij} = \\frac{a_{ij} - \\sum_{k=1}^{j-1} l_{ik} u_{kj}}{u_{jj}}$$\n",
    "$$u_{ij} = a_{ij} - \\sum_{k=1}^{i-1} l_{ik} u_{kj}$$\n",
    "\n",
    "Dado que $l_{ii} = 1$"
   ]
  },
  {
   "cell_type": "markdown",
   "id": "ace9893b-4d7b-41d2-8e31-ece19228f11a",
   "metadata": {},
   "source": [
    "## Ejercicio 2\n",
    "\n",
    "Desarrolle un programa que realice la factorización $LU$ por el método de *Crout*."
   ]
  },
  {
   "cell_type": "markdown",
   "id": "626d259b-31a8-45b5-9b07-16979d27a401",
   "metadata": {},
   "source": [
    "### Solución\n",
    "\n",
    "Dado\n",
    "$$A = LU$$\n",
    "\n",
    "Se tiene\n",
    "$$A^T = U^T L^T = L' U'$$\n",
    "\n",
    "Con $L' = U^T$, $U' = L^T$\n",
    "\n",
    "Entonces, podemos aplicar el método de Doolittle con las matrices trasnpuestas y después reorganizar las matrices $L'$ y $U'$ para obtener $U$ y $L$.\n",
    "\n",
    "La alternativa es reemplazar el orden de $L$ y $U$ en el algoritmo anterior y contemplar que ahora $u_{ii} = 1$ y $l_{ii} \\neq 1$"
   ]
  },
  {
   "cell_type": "markdown",
   "id": "d517299d-4d56-4f0a-a590-98e3d6e610af",
   "metadata": {},
   "source": [
    "```python\n",
    "factorizacion_lu_crout(A, L, U):\n",
    "    U[1][1] = 1\n",
    "    L[1][1] = A[1][1]\n",
    "    n = dimension(matriz)\n",
    "    for i in [2, ..., n]:\n",
    "        U[1:i-1][i] = solve_low(\n",
    "            L[1:i-1][1:i-1],\n",
    "            A[1:i-1][i]\n",
    "        )\n",
    "        U[i][i] = 1\n",
    "        L[i][1:i] = solve_low(\n",
    "            transpose(U[1:i][1:i]),\n",
    "            A[i][1:i]\n",
    "        )\n",
    "```"
   ]
  },
  {
   "cell_type": "markdown",
   "id": "505f6fba-baf8-4af9-86ce-3b84204066aa",
   "metadata": {},
   "source": [
    "$$l_{ij} = a_{ij} - \\sum_{k=1}^{j-1} l_{ik} u_{kj}$$\n",
    "\n",
    "$$u_{ij} = \\frac{a_{ij} - \\sum_{k=1}^{i-1} l_{ik} u_{kj}}{l_{ii}}$$"
   ]
  },
  {
   "cell_type": "markdown",
   "id": "d0c1e23b-4c56-43f4-99ef-c877912ed147",
   "metadata": {},
   "source": [
    "El siguiente código se encuentra disponible en `include/matrices/matrices.c`\n",
    "\n",
    "```C\n",
    "//Factoriza una matriz cuadrada A nxn en dos matrices L y U por el método de Crout.\n",
    "int lu_crout(double *A, double *L, double *U, int n){\n",
    "    //A: matriz nxn a fatorizar.\n",
    "    //L: Matriz triangular inferior resultado de la factorización.\n",
    "    //U: Matriz triangular superior resultado de la factorización.\n",
    "    //n: dimensión de la matriz cuadrada.\n",
    "    int max = n*n;\n",
    "    double acc;\n",
    "    *U = 1; //U[0][0] = 1 \n",
    "    *L = *A; //L[0][0] = A[0][0]\n",
    "    for(int i=1; i<n; ++i){\n",
    "        //Resuelve L[0:i-1][0:i-1]U[0:i-1][i] = A[0:i-1][i]\n",
    "        for(int ui=0; ui<i; ++ui){\n",
    "            if(*(L + ui*n + ui) == 0)\n",
    "                return -1;\n",
    "            acc = 0;\n",
    "            for(int k=0; k<ui; ++k)\n",
    "                acc += (*(L + ui*n + k)) * (*(U + k*n +i));\n",
    "            *(U + ui*n + i) = (*(A + ui*n + i) - acc)/(*(L + ui*n + ui));\n",
    "        }\n",
    "        //U[i][i] = 1;\n",
    "        *(U + i*n + i) = 1.0;\n",
    "        //Resuelve U[1:i][1:i]^TL[i][1:i]^T = A[i][1:i]^T\n",
    "        for(int j=0; j<=i; ++j){\n",
    "            acc = 0;\n",
    "            for(int k=0; k<j; ++k)\n",
    "                acc += (*(L + i*n + k)) * (*(U + k*n +j));\n",
    "            *(L +i*n + j) = *(A +i*n + j) - acc;\n",
    "        }\n",
    "    }\n",
    "    return 0;\n",
    "}\n",
    "```"
   ]
  },
  {
   "cell_type": "code",
   "execution_count": 1,
   "id": "ebd42d26-8312-444b-9960-4c9edf006afb",
   "metadata": {},
   "outputs": [],
   "source": [
    "import os\n",
    "if not os.path.exists(\"output\"):\n",
    "    os.makedirs(\"output\")"
   ]
  },
  {
   "cell_type": "markdown",
   "id": "2a076c66-3400-436a-ba7b-d27561965be5",
   "metadata": {},
   "source": [
    "#### Tests"
   ]
  },
  {
   "cell_type": "code",
   "execution_count": 2,
   "id": "5c199fd3-9647-4bf5-aaa5-cb7e04140319",
   "metadata": {
    "tags": []
   },
   "outputs": [],
   "source": [
    "#Compilacion\n",
    "!gcc src/lu_crout.c include/matrices/matrices.c -o output/matrices.o -lm -w\n",
    "!chmod +x output/matrices.o"
   ]
  },
  {
   "cell_type": "markdown",
   "id": "5cab976b-b97c-4094-a528-56ff88aa631e",
   "metadata": {},
   "source": [
    "##### Test 1"
   ]
  },
  {
   "cell_type": "code",
   "execution_count": 3,
   "id": "599a61a2-7633-43dc-98cd-9fb43a183da3",
   "metadata": {
    "tags": []
   },
   "outputs": [
    {
     "name": "stdout",
     "output_type": "stream",
     "text": [
      "Error = norm(flatten(mat), flatten(LU)); 0.000000\n",
      "x: 0.000000 20.000000 35.000000 45.000000 50.000000 50.000000 45.000000 35.000000 20.000000 0.000000 \n",
      "Error = norm(b, b'): 0.000000\n"
     ]
    }
   ],
   "source": [
    "!./output/matrices.o matrices/sistA1_mat.txt matrices/sistA1_vec.txt"
   ]
  },
  {
   "cell_type": "code",
   "execution_count": 4,
   "id": "a0384b54-c355-4310-aed0-45f1d20464ff",
   "metadata": {
    "tags": []
   },
   "outputs": [],
   "source": [
    "#Comprobacion con numpy\n",
    "import numpy as np\n",
    "import scripts.matutils as mu"
   ]
  },
  {
   "cell_type": "code",
   "execution_count": 5,
   "id": "4a4226ea-c137-4db2-a999-0506e35ee128",
   "metadata": {
    "tags": []
   },
   "outputs": [
    {
     "name": "stdout",
     "output_type": "stream",
     "text": [
      "[ 0. 20. 35. 45. 50. 50. 45. 35. 20.  0.]\n"
     ]
    }
   ],
   "source": [
    "m = mu.read_matrix(\"matrices/sistA1_mat.txt\")\n",
    "b = mu.read_vector(\"matrices/sistA1_vec.txt\")\n",
    "print(np.linalg.solve(m, b))"
   ]
  },
  {
   "cell_type": "markdown",
   "id": "8105a422-0902-4c6e-8d73-81918cf69142",
   "metadata": {},
   "source": [
    "##### Test 2"
   ]
  },
  {
   "cell_type": "code",
   "execution_count": 6,
   "id": "82d76669-dc4c-4598-897d-7b7166249bc0",
   "metadata": {
    "tags": []
   },
   "outputs": [
    {
     "name": "stdout",
     "output_type": "stream",
     "text": [
      "Error = norm(flatten(mat), flatten(LU)); 0.000000\n",
      "x: -15.466474 -31.997112 -47.959568 -63.236644 -77.819927 -91.708813 -104.903257 -117.403257 -129.208812 -140.319923 -150.736590 -160.458812 -169.486590 -177.819923 -185.458812 -192.403257 -198.653257 -204.208812 -209.069923 -213.236590 -216.708812 -219.486590 -221.569923 -222.958812 -223.653257 -223.653257 -222.958812 -221.569923 -219.486590 -216.708812 -213.236590 -209.069923 -204.208812 -198.653257 -192.403257 -185.458812 -177.819923 -169.486590 -160.458812 -150.736590 -140.319923 -129.208812 -117.403257 -104.903257 -91.708813 -77.819927 -63.236644 -47.959568 -31.997112 -15.466474 \n",
      "Error = norm(b, b'): 0.000000\n"
     ]
    }
   ],
   "source": [
    "!./output/matrices.o matrices/sistA2_mat.txt matrices/sistA2_vec.txt"
   ]
  },
  {
   "cell_type": "code",
   "execution_count": 7,
   "id": "6bc3a2b3-d74c-4d69-bd3f-85c85aa68eeb",
   "metadata": {
    "tags": []
   },
   "outputs": [
    {
     "name": "stdout",
     "output_type": "stream",
     "text": [
      "[ -15.46647413  -31.99711198  -47.95956778  -63.23664436  -77.81992735\n",
      "  -91.70881262 -104.90325681 -117.40325679 -129.20881234 -140.31992345\n",
      " -150.73659012 -160.45881234 -169.48659012 -177.81992345 -185.45881234\n",
      " -192.40325679 -198.65325679 -204.20881234 -209.06992345 -213.23659012\n",
      " -216.70881234 -219.48659012 -221.56992345 -222.95881234 -223.65325679\n",
      " -223.65325679 -222.95881234 -221.56992345 -219.48659012 -216.70881234\n",
      " -213.23659012 -209.06992345 -204.20881234 -198.65325679 -192.40325679\n",
      " -185.45881234 -177.81992345 -169.48659012 -160.45881234 -150.73659012\n",
      " -140.31992345 -129.20881234 -117.40325679 -104.90325681  -91.70881262\n",
      "  -77.81992735  -63.23664436  -47.95956778  -31.99711198  -15.46647413]\n"
     ]
    }
   ],
   "source": [
    "m = mu.read_matrix(\"matrices/sistA2_mat.txt\")\n",
    "b = mu.read_vector(\"matrices/sistA2_vec.txt\")\n",
    "print(np.linalg.solve(m, b))"
   ]
  },
  {
   "cell_type": "markdown",
   "id": "090d2785-cb00-4a30-957b-904ed6b00d61",
   "metadata": {},
   "source": [
    "## Ejercicio 3\n",
    "\n",
    "Desarrolle un programa que realice la factorización por el método de Cholesky con la forma $A = LL^T$."
   ]
  },
  {
   "cell_type": "markdown",
   "id": "14acd9a8-aa37-4a51-b955-4c950208601a",
   "metadata": {
    "tags": []
   },
   "source": [
    "### Solución\n",
    "\n",
    "Para matrices cuadradas, simétricas y definidas positivas:\n",
    "\n",
    "```python\n",
    "cholesky(A, L):\n",
    "    n = dimension(A)\n",
    "    #para cada columna\n",
    "    for j in [1, 2, ..., n]:\n",
    "        L[j][j] = sqrt(A[j][j] - producto_punto(L[j][1:j-1], L[j][1:j-1]))\n",
    "        #Para cada renglón después de la diagonal\n",
    "        for i in [j+1, j+2, ..., n]:\n",
    "            L[i][j] = (1/L[j][j])*(A[j][i] - producto_punto(L[j][1:j-1], L[i][1:j-1]))\n",
    "```"
   ]
  },
  {
   "cell_type": "markdown",
   "id": "90e2178d-cd54-4e2e-ab0e-e837f7ac4e06",
   "metadata": {},
   "source": [
    "Las ecuaciones mostradas en el pseudocódigo anterior son las siguientes\n",
    "\n",
    "\\begin{align}\n",
    "l_{ii} &= \\sqrt{a_{ii} - \\sum_{k=1}^{i-1} l_{ik}^2} \\\\\n",
    "l_{ij} &= \\frac{1}{l_{jj}} \\left(a_{ji} - \\sum_{k=1}^{j-1}l_{jk}l_{ik} \\right), & i>j\n",
    "\\end{align}"
   ]
  },
  {
   "cell_type": "markdown",
   "id": "a5705a3e-a45c-497d-94c9-bd660590c237",
   "metadata": {
    "tags": []
   },
   "source": [
    "El siguiente código se encuentra disponible en `include/matrices/matrices.c`\n",
    "\n",
    "```C\n",
    "//Factoriza una matriz simétrica cuadrada nxn definida positiva en LL' = A.\n",
    "int cholesky(double *mat, double *l, int n){\n",
    "    //mat: matriz a factorizar.\n",
    "    //l: matriz triangular inerior talque ll' = mat\n",
    "    //n: dimensión de la matriz cuadrada\n",
    "    double acc, aux;\n",
    "    for(int j=0; j<n; ++j){ //Por cada columna\n",
    "        //Cálculo de L[j][j]\n",
    "        acc = 0;\n",
    "        for(int k=0; k<j; k++)\n",
    "            acc += (*(l + j*n +k)) * (*(l + j*n +k));\n",
    "        aux = *(mat + j*n + j) - acc;\n",
    "        if(aux <= 0) //Nan safeguard.\n",
    "            return -1;\n",
    "        *(l + j*n + j) = sqrt(aux); //L[j][j]\n",
    "        for(int i=j+1; i<n; ++i){ //Para cada elemento de la columna debajo de la diagonal.\n",
    "            //Cálculo de L[i][j], i>j\n",
    "            acc = 0;\n",
    "            for(int k=0; k<j; ++k)\n",
    "                acc += (*(l + j*n + k)) * (*(l + i*n + k));\n",
    "            *(l + i*n + j) = (*(mat + j*n + i) - acc)/(*(l + j*n + j));\n",
    "        }\n",
    "    }\n",
    "    return 0;\n",
    "}\n",
    "```"
   ]
  },
  {
   "cell_type": "markdown",
   "id": "53e2e665-e095-419b-8118-2a0b375c6433",
   "metadata": {},
   "source": [
    "#### Tests"
   ]
  },
  {
   "cell_type": "code",
   "execution_count": 8,
   "id": "137aa0ee-7730-407e-a485-4ecaf29fea10",
   "metadata": {
    "tags": []
   },
   "outputs": [],
   "source": [
    "#compilacion\n",
    "!gcc src/cholesky.c include/matrices/matrices.c -o output/cholesky.o -lm -w\n",
    "!chmod +x output/cholesky.o"
   ]
  },
  {
   "cell_type": "markdown",
   "id": "a211db12-ed39-4289-bb9c-628c4e1d7a61",
   "metadata": {},
   "source": [
    "##### Test 1"
   ]
  },
  {
   "cell_type": "code",
   "execution_count": 9,
   "id": "5a4a8be9-22c9-4c81-acbb-edd71b2bbc13",
   "metadata": {
    "tags": []
   },
   "outputs": [
    {
     "name": "stdout",
     "output_type": "stream",
     "text": [
      "Error = norm(flatten(mat), flatten(LL')): 2.000000\n",
      "x: 0.000000 40.000000 75.000000 105.000000 130.000000 150.000000 165.000000 175.000000 180.000000 180.000000 \n",
      "Error = norm(b, b'): 0.000000\n"
     ]
    }
   ],
   "source": [
    "!./output/cholesky.o matrices/sistA1_mat.txt matrices/sistA1_vec.txt"
   ]
  },
  {
   "cell_type": "markdown",
   "id": "c9ad60bc-5347-4cee-9a37-0d22a2ebb3ba",
   "metadata": {},
   "source": [
    "Observamos que no fue posible factorizar la matriz del ejemplo anterior. ¿Por qué? La matriz no es simétrica."
   ]
  },
  {
   "cell_type": "markdown",
   "id": "ecfffebf-11bd-4b68-b0b0-36867b730b4e",
   "metadata": {},
   "source": [
    "##### Test 2"
   ]
  },
  {
   "cell_type": "code",
   "execution_count": 10,
   "id": "af9d5361-c63b-4601-9463-978eb1050314",
   "metadata": {
    "tags": []
   },
   "outputs": [
    {
     "name": "stdout",
     "output_type": "stream",
     "text": [
      "No es posible realizar una factorizacion LL'\n"
     ]
    }
   ],
   "source": [
    "!./output/cholesky.o matrices/sistA2_mat.txt matrices/sistA2_vec.txt"
   ]
  },
  {
   "cell_type": "markdown",
   "id": "5e1ac988-25ac-49dd-9361-7da657484003",
   "metadata": {},
   "source": [
    "Vemos que el código arroja que no es posible factorizar la matriz en la forma $A = LL^T$. Mi codigo detiene la factorizacion cuando hay una operacion que involucra una division entre 0 o una raiz cuadrada de un valor negativo. Sin embargo, podemos usar numpy para darnos cuenta que la matriz no es definida positiva."
   ]
  },
  {
   "cell_type": "code",
   "execution_count": 11,
   "id": "51d7a56d-119d-4203-9efd-1e32cd9e96a9",
   "metadata": {
    "tags": []
   },
   "outputs": [
    {
     "name": "stdout",
     "output_type": "stream",
     "text": [
      "Matrix is not positive definite\n"
     ]
    }
   ],
   "source": [
    "m = mu.read_matrix(\"matrices/sistA2_mat.txt\")\n",
    "try:\n",
    "    np.linalg.cholesky(m)\n",
    "except Exception as e:\n",
    "    print(e)"
   ]
  },
  {
   "cell_type": "markdown",
   "id": "b2ebd5cf-1198-41d7-868c-6c038134543c",
   "metadata": {},
   "source": [
    "Para corroborar que mi código en realidad funciona, generaré matrices semi definidas positivas.\n",
    "\n",
    "##### Test 3"
   ]
  },
  {
   "cell_type": "code",
   "execution_count": 12,
   "id": "98111178-9380-4511-a2f4-e14ce4d67a65",
   "metadata": {
    "tags": []
   },
   "outputs": [
    {
     "name": "stdout",
     "output_type": "stream",
     "text": [
      "Help on function positive_semidefinite in module scripts.matutils:\n",
      "\n",
      "positive_semidefinite(n: int) -> <built-in function array>\n",
      "    Genera una matriz semi-definida positiva de tamaño n x n.\n",
      "    Por definicion, el prioducto AA' es semi-deifinida positiva.\n",
      "    A' = transpose(A)\n",
      "\n"
     ]
    }
   ],
   "source": [
    "help(mu.positive_semidefinite)"
   ]
  },
  {
   "cell_type": "code",
   "execution_count": 13,
   "id": "be7ecec8-a092-4e40-ad2c-26668e9f5170",
   "metadata": {
    "tags": []
   },
   "outputs": [
    {
     "name": "stdout",
     "output_type": "stream",
     "text": [
      "Error = norm(flatten(mat), flatten(LL')): 0.000000\n",
      "x: -19009.283632 2500.681272 8374.544813 18866.606556 -13908.394203 \n",
      "Error = norm(b, b'): 0.000000\n",
      "L:\n",
      "1.194489 0.000000 0.000000 0.000000 0.000000 \n",
      "0.744108 1.129166 0.000000 0.000000 0.000000 \n",
      "1.124681 0.625631 0.475740 0.000000 0.000000 \n",
      "1.253471 0.073445 0.134902 0.397663 0.000000 \n",
      "0.878707 0.679323 0.469427 0.539395 0.007055 \n"
     ]
    }
   ],
   "source": [
    "mat = mu.positive_semidefinite(5)\n",
    "mu.write_matrix(mat, \"matrices/semi_positive_mat_5.txt\")\n",
    "b = np.random.rand(5)\n",
    "mu.write_matrix(b, \"matrices/semi_positive_vec_5.txt\")\n",
    "!./output/cholesky.o matrices/semi_positive_mat_5.txt matrices/semi_positive_vec_5.txt 1"
   ]
  },
  {
   "cell_type": "code",
   "execution_count": 14,
   "id": "e879af35-ebf0-4431-b5a6-5530e3c4b3ac",
   "metadata": {
    "tags": []
   },
   "outputs": [
    {
     "name": "stdout",
     "output_type": "stream",
     "text": [
      "L = \n",
      "[[1.1944888  0.         0.         0.         0.        ]\n",
      " [0.74410805 1.12916606 0.         0.         0.        ]\n",
      " [1.12468074 0.62563055 0.47574035 0.         0.        ]\n",
      " [1.2534706  0.07344522 0.13490189 0.39766263 0.        ]\n",
      " [0.8787073  0.67932316 0.46942661 0.53939541 0.00705462]]\n",
      "x = [-19009.28363174   2500.68127201   8374.54481267  18866.60655576\n",
      " -13908.39420306]\n"
     ]
    }
   ],
   "source": [
    "#Comprobacion con numpy\n",
    "print(\"L = \")\n",
    "print(np.linalg.cholesky(mat))\n",
    "print(f\"x = {np.linalg.solve(mat, b)}\")"
   ]
  },
  {
   "cell_type": "markdown",
   "id": "6fd0cccc-e478-4654-acc5-ace055980d03",
   "metadata": {},
   "source": [
    "##### Test 4"
   ]
  },
  {
   "cell_type": "code",
   "execution_count": 15,
   "id": "e8e601fc-3b4f-465b-81ab-2e8f1d551f34",
   "metadata": {
    "tags": []
   },
   "outputs": [
    {
     "name": "stdout",
     "output_type": "stream",
     "text": [
      "Error = norm(flatten(mat), flatten(LL')): 0.000000\n",
      "x: -1.417409 -0.354317 -1.016630 1.830551 0.008313 -1.831908 0.175267 1.127810 1.432897 -1.658248 0.553443 1.122859 0.812193 0.905605 2.008790 -1.667566 -1.749040 0.162432 -0.802255 1.073853 2.464680 -0.188380 1.330088 1.481523 0.929892 -0.007149 -1.473418 1.025073 0.170491 0.512899 -0.910314 -1.057335 -0.187229 0.680301 -1.305497 -0.083750 -0.649281 -0.680686 -0.933532 0.586722 0.109113 2.046250 -0.600549 1.793777 2.657272 -0.611485 -0.472456 0.348195 1.622136 -0.576449 0.470556 0.827393 -1.573994 0.160185 -0.468550 0.589697 -1.585742 2.072888 -2.187239 -0.331639 0.416999 -0.681781 -1.492586 -0.902234 -0.017374 0.465726 -0.711647 -0.738886 1.776178 -0.762501 -1.529773 1.554979 -1.463124 1.123908 -0.411321 -0.067847 -2.729328 -0.823094 2.387021 1.668641 1.360306 3.511383 -1.786552 -1.910530 0.530083 0.183179 0.467554 0.664480 0.643388 -2.491772 -1.767279 0.204590 -0.485856 -1.152139 0.522709 -0.165285 -0.893989 -0.427497 -1.120684 0.886965 \n",
      "Error = norm(b, b'): 0.000000\n"
     ]
    }
   ],
   "source": [
    "mat = mu.positive_semidefinite(100)\n",
    "mu.write_matrix(mat, \"matrices/semi_positive_mat_100.txt\")\n",
    "b = np.random.rand(100)\n",
    "mu.write_matrix(b, \"matrices/semi_positive_vec_100.txt\")\n",
    "!./output/cholesky.o matrices/semi_positive_mat_100.txt matrices/semi_positive_vec_100.txt"
   ]
  },
  {
   "cell_type": "code",
   "execution_count": 16,
   "id": "6319323a-3443-4fb7-92b5-c9cc94c8d575",
   "metadata": {
    "tags": []
   },
   "outputs": [
    {
     "name": "stdout",
     "output_type": "stream",
     "text": [
      "[-1.41740879 -0.35431659 -1.01662974  1.8305512   0.0083128  -1.83190841\n",
      "  0.175267    1.12780962  1.43289734 -1.65824754  0.55344298  1.12285923\n",
      "  0.8121928   0.90560497  2.00879017 -1.66756591 -1.74904049  0.16243161\n",
      " -0.80225545  1.07385343  2.46467967 -0.18837984  1.33008825  1.4815234\n",
      "  0.92989192 -0.00714899 -1.4734181   1.02507268  0.17049067  0.51289914\n",
      " -0.91031353 -1.05733517 -0.18722871  0.68030097 -1.30549654 -0.08375011\n",
      " -0.64928103 -0.68068611 -0.93353199  0.58672192  0.10911278  2.04624959\n",
      " -0.60054911  1.79377748  2.65727192 -0.61148459 -0.47245594  0.34819457\n",
      "  1.62213596 -0.57644876  0.47055614  0.82739318 -1.57399385  0.16018547\n",
      " -0.46855006  0.58969712 -1.58574189  2.07288772 -2.1872394  -0.33163874\n",
      "  0.41699853 -0.68178076 -1.49258585 -0.90223399 -0.01737354  0.4657258\n",
      " -0.71164712 -0.73888638  1.7761782  -0.76250119 -1.52977296  1.55497903\n",
      " -1.46312393  1.12390807 -0.41132124 -0.0678473  -2.72932841 -0.82309397\n",
      "  2.38702129  1.66864136  1.36030612  3.51138302 -1.78655225 -1.91053025\n",
      "  0.53008292  0.18317893  0.46755381  0.66448018  0.64338776 -2.49177196\n",
      " -1.76727851  0.20459032 -0.48585638 -1.15213856  0.52270875 -0.1652847\n",
      " -0.89398868 -0.42749707 -1.12068446  0.88696521]\n"
     ]
    }
   ],
   "source": [
    "print(np.linalg.solve(mat, b))"
   ]
  },
  {
   "cell_type": "markdown",
   "id": "15bae3c7-883f-411f-9a7b-89044c67f0e9",
   "metadata": {},
   "source": [
    "## Ejercicio 4\n",
    "\n",
    "Desarrolle un programa que realice la factorización por el método de Cholesky con la forma $A = LDL^T$."
   ]
  },
  {
   "cell_type": "markdown",
   "id": "0e8cff21-a0b4-48fe-ae9b-65823717d3ff",
   "metadata": {},
   "source": [
    "#### Solución\n",
    "\n",
    "El procedimiento es muy parecido al método anterior, pero las ecuaciones empleadas cambian. Ya no es posible representarlas mediante productos puntos de elementos de una sola matriz porque ahora $D$ *se reparte* en $L$ y $L^T$\n",
    "\n",
    "```python\n",
    "cholesky(A, L):\n",
    "    n = dimension(A)\n",
    "    #para cada columna\n",
    "    for j in [1, 2, ..., n]:\n",
    "        L[j][j] = 1\n",
    "        D[j][j] = calculo_d(j)\n",
    "        #Para cada renglón después de la diagonal\n",
    "        for i in [j+1, j+2, ..., n]:\n",
    "            L[i][j] = calculo_l(i, j)\n",
    "```\n",
    "\n",
    "Las ecuaciones son:\n",
    "\n",
    "\\begin{align}\n",
    "D_{jj} &= A_{jj} - \\sum_{k=1}^{j-1} L_{jk}^2 D_{kk} \\\\\n",
    "L_{ij} &= \\frac{1}{D_{jj}} \\left(A_{ij} - \\sum_{k=1}^{j-1} L_{ik} L_{jk} D_{kk}\\right)\n",
    "\\end{align}\n"
   ]
  },
  {
   "cell_type": "markdown",
   "id": "85ee622e-e2f7-4ead-b267-37de4639eea6",
   "metadata": {
    "tags": []
   },
   "source": [
    "El siguiente código se encuentra disponible en `include/matrices/matrices.c`\n",
    "\n",
    "```C\n",
    "//Factoriza una matriz simétrica cuadrada nxn definida positiva mat en mat = ldl'\n",
    "int cholesky_ldl(double *mat, double *l, double *d, int n){\n",
    "    //mat: matriz a factorizar.\n",
    "    //l: matriz triangular inerior resultado de la factorización.\n",
    "    //d: matriz diagonal resultado de la factorización.\n",
    "    //n: dimensión de la matriz.\n",
    "    double acc, aux;\n",
    "    for(int j=0; j<n; ++j){ //Por cada columna\n",
    "        //Cálculo de D[j][j]\n",
    "        acc = 0;\n",
    "        for(int k=0; k<j; ++k)\n",
    "            acc += (*(d + k*n +k)) * (*(l + j*n +k))*(*(l + j*n +k));\n",
    "        aux = *(mat + j*n + j) - acc;\n",
    "        if(aux == 0) //Nan safeguard\n",
    "            return -1;\n",
    "        *(d + j*n + j) = aux; //D[j][j]\n",
    "        *(l + j*n + j) = 1; //L[j][j]\n",
    "        for(int i=j+1; i<n; ++i){ //Para cada elemento de la columna y debajo de la diagonal.\n",
    "            //Calculo de L[i][j], i>j\n",
    "            acc = 0;\n",
    "            for(int k=0; k<j; ++k)\n",
    "                acc += (*(d + k*n + k)) * (*(l + i*n + k)) * (*(l + j*n + k));\n",
    "            *(l +i*n + j) = (*(mat + i*n +j) - acc)/aux;\n",
    "        }\n",
    "    }\n",
    "    return 0;\n",
    "}\n",
    "```"
   ]
  },
  {
   "cell_type": "markdown",
   "id": "95ac9600-68d0-43a7-87df-5061a9bddfb9",
   "metadata": {},
   "source": [
    "#### Tests"
   ]
  },
  {
   "cell_type": "code",
   "execution_count": 17,
   "id": "0dde11d6-5c0f-4553-b5a0-71aa3b2a8580",
   "metadata": {
    "tags": []
   },
   "outputs": [],
   "source": [
    "#compilacion\n",
    "!gcc src/cholesky_ldl.c include/matrices/matrices.c -o output/cholesky_ldl.o -lm -w\n",
    "!chmod +x output/cholesky_ldl.o"
   ]
  },
  {
   "cell_type": "markdown",
   "id": "7036de6e-efb2-46d8-b5bb-da7d1c28c6a6",
   "metadata": {},
   "source": [
    "##### Test 1"
   ]
  },
  {
   "cell_type": "code",
   "execution_count": 18,
   "id": "c20dea63-4b7c-4e4e-b82d-43937954abb1",
   "metadata": {
    "tags": []
   },
   "outputs": [
    {
     "name": "stdout",
     "output_type": "stream",
     "text": [
      "Error = norm(flatten(mat), flatten(LDL')): 2.000000\n",
      "x: 180.000000 180.000000 175.000000 165.000000 150.000000 130.000000 105.000000 75.000000 40.000000 0.000000 \n",
      "Error = norm(b, b'): 0.000000\n"
     ]
    }
   ],
   "source": [
    "!./output/cholesky_ldl.o matrices/sistA1_mat.txt matrices/sistA1_vec.txt"
   ]
  },
  {
   "cell_type": "markdown",
   "id": "0d025b0b-086b-4fdd-b1ae-af69e46a1009",
   "metadata": {},
   "source": [
    "##### Test 2"
   ]
  },
  {
   "cell_type": "code",
   "execution_count": 19,
   "id": "44a8b5d4-755c-438f-ae0e-acec5c23589b",
   "metadata": {
    "tags": []
   },
   "outputs": [
    {
     "name": "stdout",
     "output_type": "stream",
     "text": [
      "Error = norm(flatten(mat), flatten(LDL')): 0.000000\n",
      "x: -15.466474 -31.997112 -47.959568 -63.236644 -77.819927 -91.708813 -104.903257 -117.403257 -129.208812 -140.319923 -150.736590 -160.458812 -169.486590 -177.819923 -185.458812 -192.403257 -198.653257 -204.208812 -209.069923 -213.236590 -216.708812 -219.486590 -221.569923 -222.958812 -223.653257 -223.653257 -222.958812 -221.569923 -219.486590 -216.708812 -213.236590 -209.069923 -204.208812 -198.653257 -192.403257 -185.458812 -177.819923 -169.486590 -160.458812 -150.736590 -140.319923 -129.208812 -117.403257 -104.903257 -91.708813 -77.819927 -63.236644 -47.959568 -31.997112 -15.466474 \n",
      "Error = norm(b, b'): 0.000000\n"
     ]
    }
   ],
   "source": [
    "!./output/cholesky_ldl.o matrices/sistA2_mat.txt matrices/sistA2_vec.txt"
   ]
  },
  {
   "cell_type": "markdown",
   "id": "68bed0d2-865a-4adc-a661-0e92535e5a54",
   "metadata": {},
   "source": [
    "No se puede asegurar una solución para el `test 1` ni el `test 2` debido a que el primero usa una matriz no simétrica y el segundo no es definido positivo. Sin embargo, el método es capaza de calcular una solución. A continuación veremos porque no es posible obtener una factorización $A = LL^T$ a través de $LDL^2$ obtenido en el segundo test."
   ]
  },
  {
   "cell_type": "code",
   "execution_count": 20,
   "id": "8718d28b-fc1a-49e3-950a-7ffa82481ccc",
   "metadata": {
    "tags": []
   },
   "outputs": [
    {
     "name": "stdout",
     "output_type": "stream",
     "text": [
      "Error = norm(flatten(mat), flatten(LDL')): 0.000000\n",
      "x: -15.466474 -31.997112 -47.959568 -63.236644 -77.819927 -91.708813 -104.903257 -117.403257 -129.208812 -140.319923 -150.736590 -160.458812 -169.486590 -177.819923 -185.458812 -192.403257 -198.653257 -204.208812 -209.069923 -213.236590 -216.708812 -219.486590 -221.569923 -222.958812 -223.653257 -223.653257 -222.958812 -221.569923 -219.486590 -216.708812 -213.236590 -209.069923 -204.208812 -198.653257 -192.403257 -185.458812 -177.819923 -169.486590 -160.458812 -150.736590 -140.319923 -129.208812 -117.403257 -104.903257 -91.708813 -77.819927 -63.236644 -47.959568 -31.997112 -15.466474 \n",
      "Error = norm(b, b'): 0.000000\n",
      "L:\n",
      "--\n",
      "D:\n",
      "-18.000000 0.000000 0.000000 0.000000 0.000000 0.000000 0.000000 0.000000 0.000000 0.000000 0.000000 0.000000 0.000000 0.000000 0.000000 0.000000 0.000000 0.000000 0.000000 0.000000 0.000000 0.000000 0.000000 0.000000 0.000000 0.000000 0.000000 0.000000 0.000000 0.000000 0.000000 0.000000 0.000000 0.000000 0.000000 0.000000 0.000000 0.000000 0.000000 0.000000 0.000000 0.000000 0.000000 0.000000 0.000000 0.000000 0.000000 0.000000 0.000000 0.000000 \n",
      "0.000000 -12.880000 0.000000 0.000000 0.000000 0.000000 0.000000 0.000000 0.000000 0.000000 0.000000 0.000000 0.000000 0.000000 0.000000 0.000000 0.000000 0.000000 0.000000 0.000000 0.000000 0.000000 0.000000 0.000000 0.000000 0.000000 0.000000 0.000000 0.000000 0.000000 0.000000 0.000000 0.000000 0.000000 0.000000 0.000000 0.000000 0.000000 0.000000 0.000000 0.000000 0.000000 0.000000 0.000000 0.000000 0.000000 0.000000 0.000000 0.000000 0.000000 \n",
      "0.000000 0.000000 -11.293789 0.000000 0.000000 0.000000 0.000000 0.000000 0.000000 0.000000 0.000000 0.000000 0.000000 0.000000 0.000000 0.000000 0.000000 0.000000 0.000000 0.000000 0.000000 0.000000 0.000000 0.000000 0.000000 0.000000 0.000000 0.000000 0.000000 0.000000 0.000000 0.000000 0.000000 0.000000 0.000000 0.000000 0.000000 0.000000 0.000000 0.000000 0.000000 0.000000 0.000000 0.000000 0.000000 0.000000 0.000000 0.000000 0.000000 0.000000 \n"
     ]
    }
   ],
   "source": [
    "!./output/cholesky_ldl.o matrices/sistA2_mat.txt matrices/sistA2_vec.txt 1 | grep -A 3 D"
   ]
  },
  {
   "cell_type": "markdown",
   "id": "b88fe463-8aee-4a13-93b2-a713c469d5f8",
   "metadata": {},
   "source": [
    "La matriz $D$ tiene elementos negativos. No es posible obtener una matriz $\\sqrt{D}$ con números reales tales que:\n",
    "$$LDL^T = L\\sqrt{D}\\sqrt{D}L^T = (L\\sqrt{D})(\\sqrt{D}L^T) = L_2L_2^T$$"
   ]
  },
  {
   "cell_type": "markdown",
   "id": "ca47d792-a3e1-4abe-b99d-4e3b42bcf943",
   "metadata": {},
   "source": [
    "##### Test 3"
   ]
  },
  {
   "cell_type": "code",
   "execution_count": 21,
   "id": "53e2f0d1-1918-4988-96cc-8c027e5ac797",
   "metadata": {
    "tags": []
   },
   "outputs": [
    {
     "name": "stdout",
     "output_type": "stream",
     "text": [
      "Error = norm(flatten(mat), flatten(LDL')): 0.000000\n",
      "x: -19009.283632 2500.681272 8374.544813 18866.606556 -13908.394203 \n",
      "Error = norm(b, b'): 0.000000\n",
      "L:\n",
      "1.000000 0.000000 0.000000 0.000000 0.000000 \n",
      "0.622951 1.000000 0.000000 0.000000 0.000000 \n",
      "0.941558 0.554064 1.000000 0.000000 0.000000 \n",
      "1.049378 0.065044 0.283562 1.000000 0.000000 \n",
      "0.735635 0.601615 0.986729 1.356415 1.000000 \n",
      "D:\n",
      "1.426804 0.000000 0.000000 0.000000 0.000000 \n",
      "0.000000 1.275016 0.000000 0.000000 0.000000 \n",
      "0.000000 0.000000 0.226329 0.000000 0.000000 \n",
      "0.000000 0.000000 0.000000 0.158136 0.000000 \n",
      "0.000000 0.000000 0.000000 0.000000 0.000050 \n"
     ]
    }
   ],
   "source": [
    "!./output/cholesky_ldl.o matrices/semi_positive_mat_5.txt matrices/semi_positive_vec_5.txt 1"
   ]
  },
  {
   "cell_type": "code",
   "execution_count": 22,
   "id": "67f30db8-f186-4b91-a5f5-e0b2f5b823b5",
   "metadata": {
    "tags": []
   },
   "outputs": [
    {
     "name": "stdout",
     "output_type": "stream",
     "text": [
      "[-19009.28363174   2500.68127201   8374.54481267  18866.60655576\n",
      " -13908.39420306]\n"
     ]
    }
   ],
   "source": [
    "#Comprobacion con numpy (esta sistema ya se habia resuelto en el ejercicio pasado)\n",
    "m = mu.read_matrix(\"matrices/semi_positive_mat_5.txt\")\n",
    "b = mu.read_vector(\"matrices/semi_positive_vec_5.txt\")\n",
    "print(np.linalg.solve(m, b))"
   ]
  },
  {
   "cell_type": "markdown",
   "id": "395248a4-9379-4606-b0b3-b9dd07ce92b9",
   "metadata": {},
   "source": [
    "##### Test 4"
   ]
  },
  {
   "cell_type": "code",
   "execution_count": 23,
   "id": "c64e61dd-34d8-4d6b-9f7d-09a00a320d71",
   "metadata": {
    "tags": []
   },
   "outputs": [
    {
     "name": "stdout",
     "output_type": "stream",
     "text": [
      "Error = norm(flatten(mat), flatten(LDL')): 0.000000\n",
      "x: -1.417409 -0.354317 -1.016630 1.830551 0.008313 -1.831908 0.175267 1.127810 1.432897 -1.658248 0.553443 1.122859 0.812193 0.905605 2.008790 -1.667566 -1.749040 0.162432 -0.802255 1.073853 2.464680 -0.188380 1.330088 1.481523 0.929892 -0.007149 -1.473418 1.025073 0.170491 0.512899 -0.910314 -1.057335 -0.187229 0.680301 -1.305497 -0.083750 -0.649281 -0.680686 -0.933532 0.586722 0.109113 2.046250 -0.600549 1.793777 2.657272 -0.611485 -0.472456 0.348195 1.622136 -0.576449 0.470556 0.827393 -1.573994 0.160185 -0.468550 0.589697 -1.585742 2.072888 -2.187239 -0.331639 0.416999 -0.681781 -1.492586 -0.902234 -0.017374 0.465726 -0.711647 -0.738886 1.776178 -0.762501 -1.529773 1.554979 -1.463124 1.123908 -0.411321 -0.067847 -2.729328 -0.823094 2.387021 1.668641 1.360306 3.511383 -1.786552 -1.910530 0.530083 0.183179 0.467554 0.664480 0.643388 -2.491772 -1.767279 0.204590 -0.485856 -1.152139 0.522709 -0.165285 -0.893989 -0.427497 -1.120684 0.886965 \n",
      "Error = norm(b, b'): 0.000000\n"
     ]
    }
   ],
   "source": [
    "!./output/cholesky_ldl.o matrices/semi_positive_mat_100.txt matrices/semi_positive_vec_100.txt"
   ]
  },
  {
   "cell_type": "code",
   "execution_count": 24,
   "id": "ca1fd416-0dec-4757-af27-f389448fb4d7",
   "metadata": {
    "tags": []
   },
   "outputs": [
    {
     "name": "stdout",
     "output_type": "stream",
     "text": [
      "[-1.41740879 -0.35431659 -1.01662974  1.8305512   0.0083128  -1.83190841\n",
      "  0.175267    1.12780962  1.43289734 -1.65824754  0.55344298  1.12285923\n",
      "  0.8121928   0.90560497  2.00879017 -1.66756591 -1.74904049  0.16243161\n",
      " -0.80225545  1.07385343  2.46467967 -0.18837984  1.33008825  1.4815234\n",
      "  0.92989192 -0.00714899 -1.4734181   1.02507268  0.17049067  0.51289914\n",
      " -0.91031353 -1.05733517 -0.18722871  0.68030097 -1.30549654 -0.08375011\n",
      " -0.64928103 -0.68068611 -0.93353199  0.58672192  0.10911278  2.04624959\n",
      " -0.60054911  1.79377748  2.65727192 -0.61148459 -0.47245594  0.34819457\n",
      "  1.62213596 -0.57644876  0.47055614  0.82739318 -1.57399385  0.16018547\n",
      " -0.46855006  0.58969712 -1.58574189  2.07288772 -2.1872394  -0.33163874\n",
      "  0.41699853 -0.68178076 -1.49258585 -0.90223399 -0.01737354  0.4657258\n",
      " -0.71164712 -0.73888638  1.7761782  -0.76250119 -1.52977296  1.55497903\n",
      " -1.46312393  1.12390807 -0.41132124 -0.0678473  -2.72932841 -0.82309397\n",
      "  2.38702129  1.66864136  1.36030612  3.51138302 -1.78655225 -1.91053025\n",
      "  0.53008292  0.18317893  0.46755381  0.66448018  0.64338776 -2.49177196\n",
      " -1.76727851  0.20459032 -0.48585638 -1.15213856  0.52270875 -0.1652847\n",
      " -0.89398868 -0.42749707 -1.12068446  0.88696521]\n"
     ]
    }
   ],
   "source": [
    "m = mu.read_matrix(\"matrices/semi_positive_mat_100.txt\")\n",
    "b = mu.read_vector(\"matrices/semi_positive_vec_100.txt\")\n",
    "print(np.linalg.solve(m, b))"
   ]
  },
  {
   "cell_type": "code",
   "execution_count": null,
   "id": "bf3f8645-988e-4003-8841-bf62b643aea4",
   "metadata": {},
   "outputs": [],
   "source": []
  }
 ],
 "metadata": {
  "kernelspec": {
   "display_name": "Python 3 (ipykernel)",
   "language": "python",
   "name": "python3"
  },
  "language_info": {
   "codemirror_mode": {
    "name": "ipython",
    "version": 3
   },
   "file_extension": ".py",
   "mimetype": "text/x-python",
   "name": "python",
   "nbconvert_exporter": "python",
   "pygments_lexer": "ipython3",
   "version": "3.10.13"
  }
 },
 "nbformat": 4,
 "nbformat_minor": 5
}
